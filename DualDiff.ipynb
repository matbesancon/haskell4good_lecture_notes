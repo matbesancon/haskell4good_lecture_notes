{
 "cells": [
  {
   "cell_type": "code",
   "execution_count": 2,
   "metadata": {},
   "outputs": [],
   "source": [
    "newtype Dual a = Dual (a, a)\n",
    "  deriving (Show)"
   ]
  },
  {
   "cell_type": "code",
   "execution_count": 5,
   "metadata": {},
   "outputs": [],
   "source": [
    "instance Num a => Num (Dual a) where\n",
    "    Dual p1 + Dual p2 =  let (x1,y1) = p1 in let (x2,y2) = p2 in\n",
    "                             Dual (x1+x2,y1+y2)\n",
    "    Dual p1 - Dual p2 = let (x1,y1) = p1 in let (x2,y2) = p2 in\n",
    "                            Dual (x1-x2,y1-y2)\n",
    "    Dual p1 * Dual p2 = let (x1,y1) = p1 in let (x2,y2) = p2 in\n",
    "                            Dual (x1*x2, x1*y2+x2*y1)\n",
    "    negate (Dual d)   = let (x,y) = d in Dual (-x,-y)\n",
    "    fromInteger i     = Dual (fromInteger i, fromInteger 0)\n",
    "\n",
    "instance Fractional a => Fractional (Dual a) where\n",
    "    (/) (Dual p1) (Dual p2) = let (x1,y1) = p1 in let (x2,y2) = p2 in\n",
    "                            Dual ((x1/x2), ((y1*x2 - x1*y2)/(x1*x1)))\n",
    "    fromRational r                = Dual ((fromRational r), 0)"
   ]
  },
  {
   "cell_type": "code",
   "execution_count": 6,
   "metadata": {},
   "outputs": [],
   "source": [
    "f :: (Num a) => a -> a \n",
    "f x = 3 * x*x + 2*x + 1"
   ]
  },
  {
   "cell_type": "code",
   "execution_count": 7,
   "metadata": {},
   "outputs": [
    {
     "data": {
      "text/plain": [
       "Dual (6.0,8.0)"
      ]
     },
     "metadata": {},
     "output_type": "display_data"
    }
   ],
   "source": [
    "f (Dual (1.0, 1.0))"
   ]
  },
  {
   "cell_type": "code",
   "execution_count": 8,
   "metadata": {},
   "outputs": [],
   "source": [
    "f' x = 6*x + 2\n",
    "df' x = let Dual (_, v) = f (Dual (x, 1.0)) in v"
   ]
  },
  {
   "cell_type": "code",
   "execution_count": 9,
   "metadata": {},
   "outputs": [
    {
     "data": {
      "text/plain": [
       "[(0.0,2.0,2.0),(2.25,15.5,15.5),(4.5,29.0,29.0),(6.75,42.5,42.5),(9.0,56.0,56.0),(11.25,69.5,69.5),(13.5,83.0,83.0),(15.75,96.5,96.5)]"
      ]
     },
     "metadata": {},
     "output_type": "display_data"
    }
   ],
   "source": [
    "[(x,  f' x, df' x) | x <- [0.0,2.25..15.5]]"
   ]
  },
  {
   "cell_type": "code",
   "execution_count": 17,
   "metadata": {},
   "outputs": [],
   "source": [
    "dummyDiff f x = let Dual (_, v) = f (Dual (x, 1)) in v"
   ]
  },
  {
   "cell_type": "code",
   "execution_count": 18,
   "metadata": {},
   "outputs": [],
   "source": [
    "line :: (Num a) => a -> a -> a -> a\n",
    "line a b x = a * x + b"
   ]
  },
  {
   "cell_type": "code",
   "execution_count": 20,
   "metadata": {},
   "outputs": [
    {
     "data": {
      "text/plain": [
       "[3.5,3.5,3.5,3.5,3.5,3.5,3.5,3.5]"
      ]
     },
     "metadata": {},
     "output_type": "display_data"
    }
   ],
   "source": [
    "[dummyDiff (line 3.5 4.2) x | x <- [0.0,2.25..15.5]]"
   ]
  },
  {
   "cell_type": "code",
   "execution_count": null,
   "metadata": {},
   "outputs": [],
   "source": []
  }
 ],
 "metadata": {
  "@webio": {
   "lastCommId": null,
   "lastKernelId": null
  },
  "kernelspec": {
   "display_name": "Haskell",
   "language": "haskell",
   "name": "haskell"
  },
  "language_info": {
   "codemirror_mode": "ihaskell",
   "file_extension": ".hs",
   "name": "haskell",
   "pygments_lexer": "Haskell",
   "version": "8.6.4"
  }
 },
 "nbformat": 4,
 "nbformat_minor": 2
}
