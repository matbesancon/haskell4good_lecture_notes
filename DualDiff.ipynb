{
 "cells": [
  {
   "cell_type": "code",
   "execution_count": 78,
   "metadata": {},
   "outputs": [],
   "source": [
    "newtype Dual a = Dual (a, a)\n",
    "  deriving (Show)"
   ]
  },
  {
   "cell_type": "code",
   "execution_count": 98,
   "metadata": {},
   "outputs": [],
   "source": [
    "instance Num a => Num (Dual a) where\n",
    "    Dual p1 + Dual p2 =  let (x1,y1) = p1 in let (x2,y2) = p2 in\n",
    "                             Dual (x1+x2,y1+y2)\n",
    "    Dual p1 - Dual p2 = let (x1,y1) = p1 in let (x2,y2) = p2 in\n",
    "                            Dual (x1-x2,y1-y2)\n",
    "    Dual p1 * Dual p2 = let (x1,y1) = p1 in let (x2,y2) = p2 in\n",
    "                            Dual (x1*x2, x1*y2+x2*y1)\n",
    "    negate (Dual d)   = let (x,y) = d in Dual (-x,-y)\n",
    "    fromInteger i     = Dual (fromInteger i, fromInteger (0*i))"
   ]
  },
  {
   "cell_type": "code",
   "execution_count": 100,
   "metadata": {},
   "outputs": [],
   "source": [
    "f :: (Num a) => a -> a \n",
    "f x = 3 * x*x + 2*x + 1"
   ]
  },
  {
   "cell_type": "code",
   "execution_count": 101,
   "metadata": {},
   "outputs": [
    {
     "data": {
      "text/plain": [
       "Dual (6.0,8.0)"
      ]
     },
     "metadata": {},
     "output_type": "display_data"
    }
   ],
   "source": [
    "f (Dual (1.0, 1.0))"
   ]
  },
  {
   "cell_type": "code",
   "execution_count": 102,
   "metadata": {},
   "outputs": [],
   "source": [
    "f' x = 6*x + 2\n",
    "df' x = let Dual (_, v) = f (Dual (x, 1.0)) in v"
   ]
  },
  {
   "cell_type": "code",
   "execution_count": 103,
   "metadata": {},
   "outputs": [
    {
     "data": {
      "text/plain": [
       "[(0.0,2.0,2.0),(2.25,15.5,15.5),(4.5,29.0,29.0),(6.75,42.5,42.5),(9.0,56.0,56.0),(11.25,69.5,69.5),(13.5,83.0,83.0),(15.75,96.5,96.5)]"
      ]
     },
     "metadata": {},
     "output_type": "display_data"
    }
   ],
   "source": [
    "[(x,  f' x, df' x) | x <- [0.0,2.25..15.5]]"
   ]
  },
  {
   "cell_type": "code",
   "execution_count": 104,
   "metadata": {},
   "outputs": [],
   "source": [
    "dummyDiff f x = let Dual (_, v) = f Dual (x, 1.0) in v"
   ]
  },
  {
   "cell_type": "code",
   "execution_count": 111,
   "metadata": {},
   "outputs": [],
   "source": [
    "line :: (Num a) => a -> a -> a -> a\n",
    "line a b x = a * x + b"
   ]
  },
  {
   "cell_type": "code",
   "execution_count": 110,
   "metadata": {},
   "outputs": [
    {
     "ename": "",
     "evalue": "",
     "output_type": "error",
     "traceback": [
      "<interactive>:1:12: error:\n    • Couldn't match type ‘(Double, Double) -> (Double, Double)’ with ‘Dual a’\n      Expected type: ((a10, a10) -> Dual a10) -> (Double, Double) -> Dual a\n        Actual type: (Double, Double) -> (Double, Double) -> (Double, Double) -> (Double, Double)\n    • Probable cause: ‘line’ is applied to too few arguments\n      In the first argument of ‘dummyDiff’, namely ‘line’\n      In the expression: dummyDiff line x\n      In the expression: [dummyDiff line x | x <- [0.0, 2.25 .. 15.5]]\n    • Relevant bindings include it :: [a] (bound at <interactive>:1:1)"
     ]
    }
   ],
   "source": [
    "[dummyDiff line x | x <- [0.0,2.25..15.5]]"
   ]
  }
 ],
 "metadata": {
  "@webio": {
   "lastCommId": null,
   "lastKernelId": null
  },
  "kernelspec": {
   "display_name": "Haskell",
   "language": "haskell",
   "name": "haskell"
  },
  "language_info": {
   "codemirror_mode": "ihaskell",
   "file_extension": ".hs",
   "name": "haskell",
   "pygments_lexer": "Haskell",
   "version": "8.6.4"
  }
 },
 "nbformat": 4,
 "nbformat_minor": 2
}
