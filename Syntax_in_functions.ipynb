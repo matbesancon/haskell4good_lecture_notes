{
 "cells": [
  {
   "cell_type": "markdown",
   "metadata": {},
   "source": [
    "# Syntax in functions\n",
    "\n",
    "We already used some tricks in the previous notebook, especially the following one, consisting in defining several implementations for a function, depending on the pattern of the input argument. *Pattern matching* is a key construct of functional programming languages."
   ]
  },
  {
   "cell_type": "code",
   "execution_count": 5,
   "metadata": {},
   "outputs": [],
   "source": [
    "f :: [Char] -> Char\n",
    "f [] = 'o'\n",
    "f ['a', 'b'] = 'a'\n",
    "f ('a' : t) = 'b'\n",
    "f l  = 'l'"
   ]
  },
  {
   "cell_type": "code",
   "execution_count": 6,
   "metadata": {},
   "outputs": [
    {
     "data": {
      "text/plain": [
       "'o'"
      ]
     },
     "metadata": {},
     "output_type": "display_data"
    }
   ],
   "source": [
    "f []"
   ]
  },
  {
   "cell_type": "code",
   "execution_count": 7,
   "metadata": {},
   "outputs": [
    {
     "data": {
      "text/plain": [
       "'b'"
      ]
     },
     "metadata": {},
     "output_type": "display_data"
    }
   ],
   "source": [
    "f ['a']"
   ]
  },
  {
   "cell_type": "code",
   "execution_count": 8,
   "metadata": {},
   "outputs": [
    {
     "data": {
      "text/plain": [
       "'b'"
      ]
     },
     "metadata": {},
     "output_type": "display_data"
    }
   ],
   "source": [
    "f ['a', 'e']"
   ]
  },
  {
   "cell_type": "code",
   "execution_count": 9,
   "metadata": {},
   "outputs": [
    {
     "data": {
      "text/plain": [
       "'a'"
      ]
     },
     "metadata": {},
     "output_type": "display_data"
    }
   ],
   "source": [
    "f ['a', 'b']"
   ]
  },
  {
   "cell_type": "code",
   "execution_count": 10,
   "metadata": {},
   "outputs": [
    {
     "data": {
      "text/plain": [
       "'l'"
      ]
     },
     "metadata": {},
     "output_type": "display_data"
    }
   ],
   "source": [
    "f ['7']"
   ]
  },
  {
   "cell_type": "markdown",
   "metadata": {},
   "source": [
    "This can be useful for example if you are using integer codes for possible values (hint, there are better ways in Haskell, but we will see that later). At one point, you require a function for retrieving a human-friendly name from the codes:"
   ]
  },
  {
   "cell_type": "code",
   "execution_count": 21,
   "metadata": {},
   "outputs": [],
   "source": [
    "codeToString :: (Eq a, Num a) => a -> [Char]\n",
    "codeToString 0 = \"Salad\"\n",
    "codeToString 1 = \"Apple\"\n",
    "codeToString 2 = \"Watermelon\"\n",
    "codeToString x = \"Unknown\""
   ]
  },
  {
   "cell_type": "code",
   "execution_count": 23,
   "metadata": {},
   "outputs": [
    {
     "data": {
      "text/plain": [
       "[\"Salad\",\"Apple\",\"Watermelon\",\"Unknown\"]"
      ]
     },
     "metadata": {},
     "output_type": "display_data"
    }
   ],
   "source": [
    "[codeToString x | x <- [0..3]]"
   ]
  },
  {
   "cell_type": "markdown",
   "metadata": {},
   "source": [
    "A dangerous thing that might bite you: **order matters** in pattern matching so our `codeToString` is not equivalent to:"
   ]
  },
  {
   "cell_type": "code",
   "execution_count": 24,
   "metadata": {},
   "outputs": [],
   "source": [
    "wrongCodeToString :: (Eq a, Num a) => a -> [Char]\n",
    "wrongCodeToString x = \"Unknown\"\n",
    "wrongCodeToString 0 = \"Salad\"\n",
    "wrongCodeToString 1 = \"Apple\"\n",
    "wrongCodeToString 2 = \"Watermelon\""
   ]
  },
  {
   "cell_type": "code",
   "execution_count": 25,
   "metadata": {},
   "outputs": [
    {
     "data": {
      "text/plain": [
       "[\"Unknown\",\"Unknown\",\"Unknown\",\"Unknown\"]"
      ]
     },
     "metadata": {},
     "output_type": "display_data"
    }
   ],
   "source": [
    "[wrongCodeToString x | x <- [0..3]]"
   ]
  },
  {
   "cell_type": "markdown",
   "metadata": {},
   "source": [
    "That's right, the first defined pattern to match will be used, not the most specific one as in Julia's multiple dispatch. Note that the Haskell compiler issues a warning for these:\n",
    "```haskell\n",
    "<interactive>:3:1: warning: [-Woverlapping-patterns]\n",
    "    Pattern match is redundant\n",
    "    In an equation for ‘wrongCodeToString’: wrongCodeToString 0 = ...\n",
    "\n",
    "<interactive>:4:1: warning: [-Woverlapping-patterns]\n",
    "    Pattern match is redundant\n",
    "    In an equation for ‘wrongCodeToString’: wrongCodeToString 1 = ...\n",
    "\n",
    "<interactive>:5:1: warning: [-Woverlapping-patterns]\n",
    "    Pattern match is redundant\n",
    "    In an equation for ‘wrongCodeToString’: wrongCodeToString 2 = ...\n",
    "```\n",
    "\n",
    "One piece of syntax I found a bit less convenient than the ML-style is keeping the identified of a matched item:"
   ]
  },
  {
   "cell_type": "code",
   "execution_count": 38,
   "metadata": {},
   "outputs": [],
   "source": [
    "f :: (Num a) => [a] -> a\n",
    "f [] = 0\n",
    "f xs@(h:t) = sum xs"
   ]
  },
  {
   "cell_type": "markdown",
   "metadata": {},
   "source": [
    "The second pattern matched on is identifying `xs` as the whole argument and `h:t` as the de-constructed pattern. In comparison, the equivalent Ocaml would be:\n",
    "```OCaml\n",
    "let f = function\n",
    "    | [] -> 0\n",
    "    | h::t as xs -> sum xs \n",
    "```\n",
    "\n",
    "A matter of taste of course but I find the `as` keyword to read more naturally and present less barrier to entry and understanding. Our function f can also be defined once, using the `case of` syntax:"
   ]
  },
  {
   "cell_type": "code",
   "execution_count": 46,
   "metadata": {},
   "outputs": [],
   "source": [
    "f xs = case xs of\n",
    "    [] -> 0\n",
    "    h:t -> sum xs"
   ]
  },
  {
   "cell_type": "markdown",
   "metadata": {},
   "source": [
    "## `let` and `where`, two sides of the same coin\n",
    "\n",
    "We often need to compute intermediate values for a final result in real functions. Without this, we would pollute our code with insignificant steps all over at the top-level. Let us define a function creating a line representation. A line is defined by a pair $(a,b)$ and returns a function which, for every $x$, yields $y = ax + b$. "
   ]
  },
  {
   "cell_type": "code",
   "execution_count": 47,
   "metadata": {},
   "outputs": [],
   "source": [
    "line :: (Num p) => (p,p) -> p -> p\n",
    "line t x = let (a,b) = t in\n",
    "            a*x + b"
   ]
  },
  {
   "cell_type": "code",
   "execution_count": 50,
   "metadata": {},
   "outputs": [],
   "source": [
    "-- y = 3x + 2\n",
    "line0 = line (3, 2)"
   ]
  },
  {
   "cell_type": "code",
   "execution_count": 51,
   "metadata": {},
   "outputs": [
    {
     "data": {
      "text/plain": [
       "5"
      ]
     },
     "metadata": {},
     "output_type": "display_data"
    }
   ],
   "source": [
    "line0 1"
   ]
  },
  {
   "cell_type": "code",
   "execution_count": 52,
   "metadata": {},
   "outputs": [],
   "source": [
    "-- The same thing with where\n",
    "lineWhere t x = a*x + b where\n",
    "                (a, b) = t"
   ]
  },
  {
   "cell_type": "code",
   "execution_count": 53,
   "metadata": {},
   "outputs": [
    {
     "data": {
      "text/plain": [
       "5"
      ]
     },
     "metadata": {},
     "output_type": "display_data"
    }
   ],
   "source": [
    "lineWhere (3, 2) 1"
   ]
  },
  {
   "cell_type": "markdown",
   "metadata": {},
   "source": [
    "The difference is obvious, intermediate computations first or last, depending on the needs and possibilities."
   ]
  }
 ],
 "metadata": {
  "kernelspec": {
   "display_name": "Haskell",
   "language": "haskell",
   "name": "haskell"
  },
  "language_info": {
   "codemirror_mode": "ihaskell",
   "file_extension": ".hs",
   "name": "haskell",
   "pygments_lexer": "Haskell",
   "version": "8.6.4"
  }
 },
 "nbformat": 4,
 "nbformat_minor": 2
}
